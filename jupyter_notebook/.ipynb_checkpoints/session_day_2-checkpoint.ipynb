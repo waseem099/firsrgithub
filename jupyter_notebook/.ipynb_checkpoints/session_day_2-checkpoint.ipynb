{
 "cells": [
  {
   "cell_type": "code",
   "execution_count": null,
   "id": "6efce14d",
   "metadata": {},
   "outputs": [],
   "source": [
    "# (Try to creat the following function by your self)\n",
    "# Body masss index (BMI)\n",
    "# input weight\n",
    "# Hight\n",
    "# BMI (Ask your self your height)\n",
    "# Input\n",
    "# Calculate (BMI)\n",
    "# print BMI (My name is......and my BMI is .... )"
   ]
  },
  {
   "cell_type": "code",
   "execution_count": null,
   "id": "4fb9260c",
   "metadata": {},
   "outputs": [],
   "source": [
    "# BMI is your weight in kilogram devided by height in meter and then us ka square\n",
    "# weight in kg/height in m and its square"
   ]
  },
  {
   "cell_type": "code",
   "execution_count": 1,
   "id": "490c4b88",
   "metadata": {
    "scrolled": false
   },
   "outputs": [
    {
     "name": "stdout",
     "output_type": "stream",
     "text": [
      "what is your height? 1.74\n"
     ]
    }
   ],
   "source": [
    "height = input (\"what is your height? \")"
   ]
  },
  {
   "cell_type": "code",
   "execution_count": 2,
   "id": "c4dbea8c",
   "metadata": {},
   "outputs": [],
   "source": [
    "height = float(height)"
   ]
  },
  {
   "cell_type": "code",
   "execution_count": 3,
   "id": "307902f8",
   "metadata": {
    "scrolled": true
   },
   "outputs": [
    {
     "name": "stdout",
     "output_type": "stream",
     "text": [
      "what is your weight? 68\n"
     ]
    }
   ],
   "source": [
    "weight = input (\"what is your weight? \")"
   ]
  },
  {
   "cell_type": "code",
   "execution_count": 4,
   "id": "2ab11216",
   "metadata": {},
   "outputs": [],
   "source": [
    "weight = float(weight)"
   ]
  },
  {
   "cell_type": "code",
   "execution_count": 5,
   "id": "f3dcdbb5",
   "metadata": {},
   "outputs": [
    {
     "name": "stdout",
     "output_type": "stream",
     "text": [
      "what is your name? waseem\n"
     ]
    }
   ],
   "source": [
    "name = input (\"what is your name? \")"
   ]
  },
  {
   "cell_type": "code",
   "execution_count": 6,
   "id": "d81d96f1",
   "metadata": {},
   "outputs": [
    {
     "data": {
      "text/plain": [
       "22.460034350640772"
      ]
     },
     "execution_count": 6,
     "metadata": {},
     "output_type": "execute_result"
    }
   ],
   "source": [
    "BMI = weight/height**2\n",
    "BMI"
   ]
  },
  {
   "cell_type": "code",
   "execution_count": 7,
   "id": "2c5bb50d",
   "metadata": {},
   "outputs": [
    {
     "name": "stdout",
     "output_type": "stream",
     "text": [
      "My name is waseem and my BMI is 22.460034350640772\n"
     ]
    }
   ],
   "source": [
    "print(\"My name is\", name, \"and my BMI is\", BMI)"
   ]
  }
 ],
 "metadata": {
  "kernelspec": {
   "display_name": "Python 3 (ipykernel)",
   "language": "python",
   "name": "python3"
  },
  "language_info": {
   "codemirror_mode": {
    "name": "ipython",
    "version": 3
   },
   "file_extension": ".py",
   "mimetype": "text/x-python",
   "name": "python",
   "nbconvert_exporter": "python",
   "pygments_lexer": "ipython3",
   "version": "3.11.5"
  }
 },
 "nbformat": 4,
 "nbformat_minor": 5
}
