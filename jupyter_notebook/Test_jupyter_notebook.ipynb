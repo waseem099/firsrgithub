{
 "cells": [
  {
   "cell_type": "markdown",
   "id": "35498913",
   "metadata": {},
   "source": [
    "# Python chila with baba aammar\n",
    "## How to use jupyter notebook\n",
    "### Basics of python\n",
    " **01 My first programe**"
   ]
  },
  {
   "cell_type": "code",
   "execution_count": 12,
   "id": "04d9015e",
   "metadata": {
    "scrolled": true
   },
   "outputs": [
    {
     "name": "stdout",
     "output_type": "stream",
     "text": [
      "5\n",
      "Hellow world\n",
      "We are learning python\n"
     ]
    }
   ],
   "source": [
    "print(2+3)\n",
    "print(\"Hellow world\")\n",
    "print(\"We are learning python\")"
   ]
  },
  {
   "cell_type": "markdown",
   "id": "c84c97e5",
   "metadata": {},
   "source": [
    "**02-Operators**"
   ]
  },
  {
   "cell_type": "code",
   "execution_count": 13,
   "id": "ccf39c3a",
   "metadata": {
    "scrolled": true
   },
   "outputs": [
    {
     "name": "stdout",
     "output_type": "stream",
     "text": [
      "5\n",
      "1\n",
      "12\n",
      "3.0\n",
      "3\n",
      "1\n",
      "8\n",
      "6.5\n"
     ]
    }
   ],
   "source": [
    "print(2+3)\n",
    "print(3-2)\n",
    "print(3*4)\n",
    "print(6/2)  #it will give a float number\n",
    "print(6//2)  #it will give a INT number\n",
    "print(13%2) # (% is used for reminder)\n",
    "print(2**3) #this code not working in terminal (** mean power) (exponent)\n",
    "\n",
    "print(3**2/2*3/3+6-4) # it's work on PEMDAS rule\n"
   ]
  },
  {
   "cell_type": "markdown",
   "id": "20ad77b4",
   "metadata": {},
   "source": [
    "*PMDAS*\n",
    "*Paranthesis , Exponent, Multplication, Division, Addition, ubtraction*\n",
    "*Left to Right sequence P M D A S*"
   ]
  },
  {
   "cell_type": "markdown",
   "id": "053261a7",
   "metadata": {},
   "source": [
    "**03-Strings**"
   ]
  },
  {
   "cell_type": "code",
   "execution_count": 14,
   "id": "8000fe3d",
   "metadata": {},
   "outputs": [
    {
     "name": "stdout",
     "output_type": "stream",
     "text": [
      "Hellow world\n",
      "we are learning python with aammar\n",
      "Test for single quotes\n",
      "test for double quotes\n",
      "\n",
      "I am waseem\n",
      "I am learning python with aammar\n",
      "I am still young\n",
      "      \n",
      "   what's up    ? \n"
     ]
    }
   ],
   "source": [
    "print(\"Hellow world\")  #anything used in single ('') double (\"\") or tripple (''' ''') are called strings\n",
    "print(\"we are learning python with aammar\")\n",
    "\n",
    "print('Test for single quotes')\n",
    "print(\"test for double quotes\")\n",
    "print('''\n",
    "I am waseem\n",
    "I am learning python with aammar\n",
    "I am still young\n",
    "      ''') # Three qutation mark use hoti hai jab hum multiple line string liktey hai\n",
    "\n",
    "print(\"   what's up    ? \") # VS-code will print all the spaces \n",
    "\n",
    "# Back ticks (``) ye jab hum ney markdown ki file likni ho or codes ko alada sa dikhana ho, ye keyboard\n",
    "# mai 1 k sath left side mai hota hai"
   ]
  },
  {
   "cell_type": "markdown",
   "id": "8f21dfc2",
   "metadata": {},
   "source": [
    "**04-comments**"
   ]
  },
  {
   "cell_type": "code",
   "execution_count": null,
   "id": "7a284627",
   "metadata": {},
   "outputs": [],
   "source": [
    "print(\"how are you ?\")\n",
    "print(\"we are learning python with aammar\")\n",
    "print(2+3)\n",
    "# to make a line/lines comment select the text and press the left (Ctrl + /) it will change to comments and vice cersa"
   ]
  },
  {
   "cell_type": "code",
   "execution_count": null,
   "id": "51bcde9a",
   "metadata": {},
   "outputs": [],
   "source": [
    "**V"
   ]
  }
 ],
 "metadata": {
  "kernelspec": {
   "display_name": "Python 3 (ipykernel)",
   "language": "python",
   "name": "python3"
  },
  "language_info": {
   "codemirror_mode": {
    "name": "ipython",
    "version": 3
   },
   "file_extension": ".py",
   "mimetype": "text/x-python",
   "name": "python",
   "nbconvert_exporter": "python",
   "pygments_lexer": "ipython3",
   "version": "3.11.5"
  }
 },
 "nbformat": 4,
 "nbformat_minor": 5
}
